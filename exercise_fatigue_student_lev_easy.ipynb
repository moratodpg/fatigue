{
 "cells": [
  {
   "cell_type": "markdown",
   "metadata": {},
   "source": [
    "## Importing packages"
   ]
  },
  {
   "cell_type": "code",
   "execution_count": null,
   "metadata": {},
   "outputs": [],
   "source": [
    "%matplotlib notebook\n",
    "import numpy as np\n",
    "import matplotlib.pyplot as plt\n",
    "import time\n",
    "import math\n",
    "from scipy import stats as st\n",
    "\n",
    "cm = 1/2.54  # centimeters in inches\n",
    "plt.rcParams[\"font.family\"] = \"Times New Roman\"\n",
    "plt.rcParams[\"font.size\"] = 12"
   ]
  },
  {
   "cell_type": "markdown",
   "metadata": {},
   "source": [
    "## Definition of variables"
   ]
  },
  {
   "cell_type": "code",
   "execution_count": null,
   "metadata": {},
   "outputs": [],
   "source": [
    "lifet = # Add your code #\n",
    "m = # Add your code #\n",
    "n = # Add your code #\n",
    "\n",
    "# number of samples\n",
    "samples = # Add your code #\n",
    "#fixing the seed for reproducibility\n",
    "np.random.seed(10)\n",
    "\n",
    "## Initial crack size ##\n",
    "a0_mean = # Add your code #\n",
    "\n",
    "## Geometric factor ##\n",
    "Y_mean = # Add your code #\n",
    "Y_std = # Add your code #\n",
    "mu_Y = np.log((Y_mean**2)/math.sqrt(Y_std**2+Y_mean**2))\n",
    "sigma_Y = math.sqrt(np.log(Y_std**2/(Y_mean**2)+1))\n",
    "\n",
    "## Paris' law parameter: crack growth ##\n",
    "logCmean = # Add your code #;\n",
    "logCstd = # Add your code #;\n",
    "\n",
    "## Stress range ##\n",
    "Se_mean = # Add your code #\n",
    "Se_cov = # Add your code #\n",
    "Se_std = Se_cov*Se_mean\n",
    "mu_Se = np.log((Se_mean**2)/math.sqrt(Se_std**2+Se_mean**2))\n",
    "sigma_Se = math.sqrt(np.log(Se_std**2/(Se_mean**2)+1))\n",
    "\n",
    "## Thickness ##\n",
    "a_c = # Add your code #"
   ]
  },
  {
   "cell_type": "markdown",
   "metadata": {},
   "source": [
    "### 'Pseudo' random number generation"
   ]
  },
  {
   "cell_type": "code",
   "execution_count": null,
   "metadata": {},
   "outputs": [],
   "source": [
    "## Scale == mean\n",
    "a0_rn = np.random.exponential(scale=a0_mean, size=(samples))\n",
    "print('a0   | Mean: ', np.mean(a0_rn), '  Std: ', np.std(a0_rn))\n",
    "\n",
    "Y_rn  = np.random.lognormal(mu_Y, sigma_Y, size=(samples))\n",
    "print('Y    | Mean: ', np.mean(Y_rn), '  Std: ', np.std(Y_rn))\n",
    "\n",
    "logC_rn  = np.random.normal(logCmean, logCstd, size=(samples))\n",
    "print('logC | Mean: ', np.mean(logC_rn), '  Std: ', np.std(logC_rn))\n",
    "C_rn = 10**logC_rn\n",
    "print('C    | Mean: ', np.mean(C_rn), '  Std: ', np.std(C_rn))\n",
    "\n",
    "Se_rn  = np.random.lognormal(mu_Se, sigma_Se, size=(samples))\n",
    "print('Se   | Mean: ', np.mean(Se_rn), '  Std: ', np.std(Se_rn))"
   ]
  },
  {
   "cell_type": "markdown",
   "metadata": {},
   "source": [
    "## Stochastic crack size computation\n",
    "Crack growth model => Paris' law\n",
    "\n",
    "$a_{t+1} = [a_{t}^{(2-m)/2} + (2-m)/2)C(Y_\\pi^{0.5}Se)^mn]^{2/(2-m)}$"
   ]
  },
  {
   "cell_type": "code",
   "execution_count": null,
   "metadata": {
    "scrolled": true
   },
   "outputs": [],
   "source": [
    "a0_it = a0_rn.copy()\n",
    "a_it = np.zeros((samples, lifet))\n",
    "for i in range(lifet):\n",
    "    a_it[:, i] = (a0_it**((2-m)/2) + ((2-m)/2)*C_rn*(Y_rn*math.pi**0.5*Se_rn)**m*n)**(2/(2-m))\n",
    "    ## For numerical stability purposes ##\n",
    "    a_it[a_it > a_c] = a_c + 1 \n",
    "    C_rn[a_it[:,i] > a_c] = 1e-100\n",
    "    ##--------------------------------- ##\n",
    "    \n",
    "    ## Verbosity ##\n",
    "#     print('a_it | Mean: ', np.mean(a_it[:, i]), '  Std: ', np.std(a_it[:, i]))\n",
    "#     print('p_f: ', p_f[i])\n",
    "    ##-----------##\n",
    "    a0_it = a_it[:, i]"
   ]
  },
  {
   "cell_type": "code",
   "execution_count": null,
   "metadata": {},
   "outputs": [],
   "source": [
    "time_ = np.arange(1, lifet+1)\n",
    "fig, ax = plt.subplots(1, figsize=(14*cm, 8*cm))\n",
    "ax.set_title('Crack growth', pad=1)\n",
    "ax.set_xlabel('Time (years)')\n",
    "ax.set_ylabel('$a (mm)$')\n",
    "ax.set_ylim([0,20])\n",
    "for j in range(200):\n",
    "    ax.plot(time_, a_it[j,:], color='grey')\n",
    "plt.subplots_adjust(left=0.10, right=.98, top=0.90, bottom=0.20, hspace = 0.65, wspace=0.15)\n",
    "plt.show()"
   ]
  },
  {
   "cell_type": "markdown",
   "metadata": {},
   "source": [
    "## Failure probability computation"
   ]
  },
  {
   "cell_type": "code",
   "execution_count": null,
   "metadata": {},
   "outputs": [],
   "source": [
    "g_fail = # Add your code #\n",
    "failures = g_fail <= 0\n",
    "failures_n = np.sum(failures, axis=0)\n",
    "pf = failures_n / samples\n",
    "print('Failure probability | Year :', lifet, '=> ', pf[lifet-1])\n",
    "\n",
    "## Verbosity ##\n",
    "# print('Failures: ', failures_n)\n",
    "# print('Failure probability: ', pf)\n",
    "##-----------##\n",
    "\n",
    "time_ = np.arange(1, lifet+1)\n",
    "fig, ax = plt.subplots(1, figsize=(17*cm, 8*cm))\n",
    "ax.set_yscale('log') # Log-scale #\n",
    "ax.set_title('Failure probability computation', pad=1)\n",
    "ax.set_xlabel('Time (years)')\n",
    "ax.set_ylabel('$P_F$')\n",
    "ax.plot(time_, pf)\n",
    "plt.subplots_adjust(left=0.10, right=.98, top=0.90, bottom=0.20, hspace = 0.65, wspace=0.15)\n",
    "plt.show()"
   ]
  }
 ],
 "metadata": {
  "kernelspec": {
   "display_name": "Python 3",
   "language": "python",
   "name": "python3"
  },
  "language_info": {
   "codemirror_mode": {
    "name": "ipython",
    "version": 3
   },
   "file_extension": ".py",
   "mimetype": "text/x-python",
   "name": "python",
   "nbconvert_exporter": "python",
   "pygments_lexer": "ipython3",
   "version": "3.7.7"
  }
 },
 "nbformat": 4,
 "nbformat_minor": 4
}
