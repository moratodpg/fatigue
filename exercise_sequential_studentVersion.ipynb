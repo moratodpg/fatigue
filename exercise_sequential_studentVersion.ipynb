{
 "cells": [
  {
   "cell_type": "markdown",
   "metadata": {},
   "source": [
    "## Loading packages"
   ]
  },
  {
   "cell_type": "code",
   "execution_count": 1,
   "metadata": {},
   "outputs": [],
   "source": [
    "%matplotlib notebook\n",
    "import numpy as np\n",
    "import matplotlib.pyplot as plt\n",
    "import time\n",
    "import scipy.io as spio"
   ]
  },
  {
   "cell_type": "markdown",
   "metadata": {},
   "source": [
    "## Input data (Waves)"
   ]
  },
  {
   "cell_type": "code",
   "execution_count": 2,
   "metadata": {},
   "outputs": [],
   "source": [
    "wave_a_still = 64\n",
    "wave_a_hog_global = -8\n",
    "wave_a_sag_global = 4\n",
    "wave_a_hog_local = -12 \n",
    "wave_a_sag_local = 5\n",
    "wave_a_cycles_exper = 3e7\n",
    "\n",
    "wave_b_still = -45\n",
    "wave_b_hog_global = -20\n",
    "wave_b_sag_global = 22\n",
    "wave_b_hog_local = -10\n",
    "wave_b_sag_local = 13\n",
    "wave_b_cycles_exper = 5e5\n",
    "\n",
    "wave_c_still = 64\n",
    "wave_c_hog_global = -20\n",
    "wave_c_sag_global = 15\n",
    "wave_c_hog_local = -6\n",
    "wave_c_sag_local = 12\n",
    "wave_c_cycles_exper = 1e6\n",
    "\n",
    "wave_d_still = -45\n",
    "wave_d_hog_global = -5\n",
    "wave_d_sag_global = 3\n",
    "wave_d_hog_local = -3\n",
    "wave_d_sag_local = 10\n",
    "wave_d_cycles_exper = 1e7\n",
    "\n",
    "wave_e_still = 64\n",
    "wave_e_hog_global = -24\n",
    "wave_e_sag_global = 10\n",
    "wave_e_hog_local = -25\n",
    "wave_e_sag_local = 15\n",
    "wave_e_cycles_exper = 5e4\n",
    "\n",
    "wave_f_still = -45\n",
    "wave_f_hog_global = -5\n",
    "wave_f_sag_global = 8\n",
    "wave_f_hog_local = -3\n",
    "wave_f_sag_local = 4\n",
    "wave_f_cycles_exper = 1e7\n",
    "\n",
    "### Redefinition of input data for computation in loops\n",
    "n_waves = 6\n",
    "still = np.zeros(n_waves)\n",
    "still = [wave_a_still, wave_b_still, wave_c_still, wave_d_still, wave_e_still, wave_f_still]\n",
    "hog_global = np.zeros(n_waves)\n",
    "hog_global = [wave_a_hog_global, wave_b_hog_global, wave_c_hog_global, wave_d_hog_global, wave_e_hog_global, wave_f_hog_global]\n",
    "sag_global = np.zeros(n_waves)\n",
    "sag_global = [wave_a_sag_global, wave_b_sag_global, wave_c_sag_global, wave_d_sag_global, wave_e_sag_global, wave_f_sag_global]\n",
    "hog_local = np.zeros(n_waves)\n",
    "hog_local = [wave_a_hog_local, wave_b_hog_local, wave_c_hog_local, wave_d_hog_local, wave_e_hog_local, wave_f_hog_local]\n",
    "sag_local = np.zeros(n_waves)\n",
    "sag_local = [wave_a_sag_local, wave_b_sag_local, wave_c_sag_local, wave_d_sag_local, wave_e_sag_local, wave_f_sag_local]\n",
    "cycles_exper = np.zeros(n_waves)\n",
    "cycles_exper = [wave_a_cycles_exper, wave_b_cycles_exper, wave_c_cycles_exper, wave_d_cycles_exper, wave_e_cycles_exper, wave_f_cycles_exper]\n",
    "\n",
    "cm = 1/2.54  # centimeters in inches\n",
    "plt.rcParams[\"font.family\"] = \"Times New Roman\"\n",
    "plt.rcParams[\"font.size\"] = 12"
   ]
  },
  {
   "cell_type": "markdown",
   "metadata": {},
   "source": [
    "# Structural connection "
   ]
  },
  {
   "cell_type": "code",
   "execution_count": null,
   "metadata": {},
   "outputs": [],
   "source": [
    "fat_class = # add your code here #\n",
    "knuckle_stress = # add your code here #\n",
    "log_k1 = # add your code here #\n",
    "m1 = # add your code here #\n",
    "log_k2 = # add your code here #\n",
    "m2 = # add your code here #"
   ]
  },
  {
   "cell_type": "markdown",
   "metadata": {},
   "source": [
    "# Yielding check"
   ]
  },
  {
   "cell_type": "code",
   "execution_count": null,
   "metadata": {},
   "outputs": [],
   "source": [
    "wave_hog = np.zeros(6)\n",
    "for i in range(6):\n",
    "    wave_hog[i] = # add your code here #\n",
    "    print('Wave', i, '(hogging):  ', wave_hog[i], 'MPa')\n",
    "\n",
    "wave_sag = np.zeros(6)\n",
    "for i in range(6):\n",
    "    wave_sag[i] = # add your code here #\n",
    "    print('Wave', i, '(sagging):  ', wave_sag[i], 'MPa')\n",
    "    \n",
    "width = 0.6\n",
    "xpos = np.arange(6)\n",
    "fig, ax = plt.subplots(1, 2, figsize=(17*cm, 6*cm), sharey='row')\n",
    "ax[0].set_title('Hogging', pad=1)\n",
    "ax[0].bar(xpos, wave_hog, width)\n",
    "ax[0].axhline(y = 160, color='r')\n",
    "ax[0].axhline(y = -160, color='r')\n",
    "ax[0].set_ylim(-180, +180)\n",
    "ax[0].set_xlabel('Wave')\n",
    "ax[0].set_ylabel('Stress (MPa)')\n",
    "ax[1].set_title('Sagging', pad=0.5)\n",
    "ax[1].bar(xpos, wave_sag, width)\n",
    "ax[1].axhline(y = 160, color='r')\n",
    "ax[1].axhline(y = -160, color='r')\n",
    "ax[1].set_ylim(-180, +180)\n",
    "ax[1].set_xlabel('Wave')\n",
    "plt.subplots_adjust(left=0.10, right=.98, top=0.90, bottom=0.20, hspace = 0.65, wspace=0.15)\n",
    "plt.show()"
   ]
  },
  {
   "cell_type": "markdown",
   "metadata": {},
   "source": [
    "# Fatigue loads"
   ]
  },
  {
   "cell_type": "code",
   "execution_count": null,
   "metadata": {},
   "outputs": [],
   "source": [
    "wave_stress_range = np.zeros(6)\n",
    "for i in range(6):\n",
    "    wave_stress_range[i] = # add your code here #\n",
    "    print('Wave', i, '(hogging):  ', wave_stress_range[i], 'MPa')\n",
    "    \n",
    "width = 0.6\n",
    "xpos = np.arange(6)\n",
    "fig, ax = plt.subplots(1, figsize=(13*cm, 6*cm))\n",
    "ax.bar(xpos, wave_stress_range, width)\n",
    "ax.set_xlabel('Wave')\n",
    "ax.set_ylabel('Stress range (MPa)')\n",
    "plt.subplots_adjust(left=0.10, right=.98, top=0.90, bottom=0.20, hspace = 0.65, wspace=0.15)\n",
    "plt.show()"
   ]
  },
  {
   "cell_type": "markdown",
   "metadata": {},
   "source": [
    "## Get cycles to failure "
   ]
  },
  {
   "cell_type": "code",
   "execution_count": null,
   "metadata": {},
   "outputs": [],
   "source": [
    "def get_cycles_fail(stress_range, knuckle_stress, log_k1, log_k2, m1, m2):\n",
    "    if stress_range >= # add your code here #:\n",
    "        cycles_fail = # add your code here #\n",
    "        #print(log_k1)\n",
    "    else:\n",
    "        cycles_fail = # add your code here #\n",
    "        #print(log_k2)\n",
    "    return cycles_fail "
   ]
  },
  {
   "cell_type": "markdown",
   "metadata": {},
   "source": [
    "## Cycles to failure (N)"
   ]
  },
  {
   "cell_type": "code",
   "execution_count": null,
   "metadata": {},
   "outputs": [],
   "source": [
    "wave_N = np.zeros(6)\n",
    "for i in range(6):\n",
    "    wave_N[i] = get_cycles_fail(wave_stress_range[i], knuckle_stress, log_k1, log_k2, m1, m2)\n",
    "    print('Wave', i, '(N):  ', wave_N[i]/1e6, 'million cycles')\n",
    "    \n",
    "width = 0.3\n",
    "xpos = np.arange(6)\n",
    "fig, ax = plt.subplots(1, figsize=(17*cm, 6*cm))\n",
    "ax.bar(xpos + 0.00, cycles[0], width, label='experienced')\n",
    "ax.bar(xpos + 0.30, cycles[1], width, color='red', label='to failure')\n",
    "ax.set_xlabel('Wave')\n",
    "ax.set_ylabel('Cycles')\n",
    "ax.set_ylim(1e3, 1e11)\n",
    "ax.set_yscale('log')\n",
    "ax.legend(labels=['experienced', 'to failure'], loc=2)\n",
    "plt.show()"
   ]
  },
  {
   "cell_type": "markdown",
   "metadata": {},
   "source": [
    "## Fatigue damage (Miner's rule)"
   ]
  },
  {
   "cell_type": "code",
   "execution_count": null,
   "metadata": {},
   "outputs": [],
   "source": [
    "wave_D = np.zeros(6)\n",
    "for i in range(6):\n",
    "    wave_D[i] = # add your code here #\n",
    "    print('Wave', i, '(D):  ', wave_D[i])\n",
    "\n",
    "total_damage = np.sum(wave_D)\n",
    "print('')\n",
    "print('Total damage:', total_damage)\n",
    "print('Fatigue life:', 25/total_damage, 'years')\n",
    "\n",
    "width = 0.6\n",
    "xpos = np.arange(6)\n",
    "fig, ax = plt.subplots(1, figsize=(13*cm, 6*cm))\n",
    "ax.bar(xpos, wave_D, width)\n",
    "ax.set_xlabel('Wave')\n",
    "ax.set_ylabel('Damage (-)')\n",
    "plt.subplots_adjust(left=0.12, right=.98, top=0.90, bottom=0.20, hspace = 0.65, wspace=0.15)\n",
    "plt.show()"
   ]
  }
 ],
 "metadata": {
  "kernelspec": {
   "display_name": "Python 3",
   "language": "python",
   "name": "python3"
  },
  "language_info": {
   "codemirror_mode": {
    "name": "ipython",
    "version": 3
   },
   "file_extension": ".py",
   "mimetype": "text/x-python",
   "name": "python",
   "nbconvert_exporter": "python",
   "pygments_lexer": "ipython3",
   "version": "3.7.7"
  }
 },
 "nbformat": 4,
 "nbformat_minor": 4
}
